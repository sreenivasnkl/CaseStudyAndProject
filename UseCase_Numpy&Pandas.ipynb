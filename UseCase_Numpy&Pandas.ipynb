{
 "cells": [
  {
   "cell_type": "markdown",
   "metadata": {},
   "source": [
    "## problem1\n",
    "1) Write a Python program which accepts a list named : randomList = ['a', 0, 2]. Use exception handling using try-catch which\n",
    "gives the output as:\n",
    "Output:\n",
    "1) If the List element is a alphabet or string, the output will be\n",
    "The entry is a\n",
    "Oops! <class\n",
    "'ValueError'>occured. Next entry.\n",
    "2) If the List element is “0”,the output will be\n",
    "The entry is 0\n",
    "Oops! <class '\n",
    "ZeroDivisionError’>occured. Next entry.\n",
    "3) If the List element is and integer except 0,then output will be\n",
    "The entry is 2\n",
    "The reciprocal of 2 is 0.5 // reciprocal of an integer "
   ]
  },
  {
   "cell_type": "code",
   "execution_count": 5,
   "metadata": {},
   "outputs": [
    {
     "name": "stdout",
     "output_type": "stream",
     "text": [
      "Enter integera\n",
      "the entry is a\n",
      "Oops!! <class'ValueError'>occured. Next entry.\n",
      "Enter integergh\n",
      "the entry is gh\n",
      "Oops!! <class'ValueError'>occured. Next entry.\n",
      "Enter integer0\n",
      "entry is 0\n",
      "Oops!! <class'ZeroDivisionError'>occured. Next entry.\n",
      "Enter integer6\n",
      "entry is 6\n",
      "The reciprocal of 6 is 0.16666666666666666\n"
     ]
    }
   ],
   "source": [
    "def askint():\n",
    "    while True:\n",
    "        try:\n",
    "            item = input(\"Enter integer\")\n",
    "            if (int(item) == 0):\n",
    "                raise ZeroDivisionError\n",
    "            elif item.isalpha():\n",
    "                raise ValueError\n",
    "            print(\"entry is \"  + item)\n",
    "            print(\"The reciprocal of {} is {}\".format(item, 1/int(item)))\n",
    "        except ValueError:\n",
    "            print(\"the entry is \" +item)\n",
    "            print(\"Oops!! <class'ValueError'>occured. Next entry.\")\n",
    "        except ZeroDivisionError:\n",
    "            print(\"entry is \"  + item)\n",
    "            print(\"Oops!! <class'ZeroDivisionError'>occured. Next entry.\")\n",
    "        else:\n",
    "            break;\n",
    "            \n",
    "askint()        "
   ]
  },
  {
   "cell_type": "markdown",
   "metadata": {},
   "source": [
    "\n",
    "## Problem 2\n",
    "2) Array out of Bound Exception\n",
    "Write a Python program to give exception “Array Out of Bound” if the user wants to access the elements beyond the list\n",
    "size (use try and except)"
   ]
  },
  {
   "cell_type": "code",
   "execution_count": 25,
   "metadata": {},
   "outputs": [
    {
     "name": "stdout",
     "output_type": "stream",
     "text": [
      "Give the index you want to access: fdg\n",
      "Value Error.Enter int.\n"
     ]
    }
   ],
   "source": [
    "class ArrayOutOfBound(Exception):\n",
    "    pass\n",
    "mylist=[1,2,3,4,5]\n",
    "list_size= len(mylist)\n",
    "try:\n",
    "    index = int(input(\"Give the index you want to access: \"))\n",
    "    if(index<0 or index >=list_size):\n",
    "        raise ArrayOutOfBound\n",
    "    print(\"value is \"+str(mylist[index]))\n",
    "except ArrayOutOfBound:\n",
    "    print(\"Array Out of bound Exception. Please enter betweeen 0 to {}\".format(list_size))\n",
    "except:\n",
    "    print(\"Value Error.Enter int.\")"
   ]
  },
  {
   "cell_type": "markdown",
   "metadata": {},
   "source": [
    "## problem 3\n",
    "3) Write a python module script that contains fib2() method to calculate the Fibonacci series till 1000 and save it as fibo.py"
   ]
  },
  {
   "cell_type": "code",
   "execution_count": 5,
   "metadata": {},
   "outputs": [],
   "source": [
    "## calls the fib2 function\n",
    "import fibo as fib"
   ]
  },
  {
   "cell_type": "markdown",
   "metadata": {},
   "source": [
    "The function is :\n",
    "fiblist =[0,1]\n",
    "def fib2(num):\n",
    "    if(num < len(fiblist)):\n",
    "        return fiblist[num]\n",
    "    else:\n",
    "        x = fib2(num-1)+ fib2(num-2)\n",
    "        fiblist.append(x)\n",
    "        return x"
   ]
  },
  {
   "cell_type": "code",
   "execution_count": 7,
   "metadata": {},
   "outputs": [
    {
     "name": "stdout",
     "output_type": "stream",
     "text": [
      "Enter the index: 4\n",
      "Fibronnci number at 4 is 3\n"
     ]
    }
   ],
   "source": [
    "index = int(input(\"Enter the index: \"))\n",
    "ans = fib.fib2(index)\n",
    "print(\"Fibronnci number at {} is {}\".format(index,ans))"
   ]
  },
  {
   "cell_type": "markdown",
   "metadata": {},
   "source": [
    "## Problem 4\n",
    "4) Write a python module script that contains ispalindrome() method to calculate the input string as palindrome string or\n",
    "not and save it as palindrome.py."
   ]
  },
  {
   "cell_type": "code",
   "execution_count": 9,
   "metadata": {},
   "outputs": [],
   "source": [
    "import palindrome as pal"
   ]
  },
  {
   "cell_type": "markdown",
   "metadata": {},
   "source": [
    "Function is: def ispalindrome(string):\n",
    "    if(string == string[::-1]):\n",
    "        return True\n",
    "    return False"
   ]
  },
  {
   "cell_type": "code",
   "execution_count": 12,
   "metadata": {},
   "outputs": [
    {
     "name": "stdout",
     "output_type": "stream",
     "text": [
      "enter a string to check: 34ggh43\n",
      "The Palindrome result for string  '34ggh43' is False\n"
     ]
    }
   ],
   "source": [
    "string = input(\"enter a string to check: \")\n",
    "print(\"The Palindrome result for string  '{}' is {}\".format(string,pal.ispalindrome(string)))"
   ]
  },
  {
   "cell_type": "markdown",
   "metadata": {},
   "source": [
    "## Problem 5 - Caeser Cipher\n",
    "5) Write a program in Python with one class called Cipher. Within the constructor of this class, ask user for a string and store\n",
    "it. Use a static variable, key to store a randomly generated integer between 1 and 50 inclusive. Implement two methods,\n",
    "encrypt and decrypt within this class. Encrypt generates and prints a cipher text using the user-entered string and the key and\n",
    "ecrypt generates decrypted string from ciphertext. The cipher only encrypts alpha and numeric (A-Z, a-z, 0-9). All Symbols,\n",
    "such as - , ; %, remain unencrypted. The cipher text can have special characters. Use generator expression to filter out alpha\n",
    "and numeric characters of the input string and to generate cipher text. Create an instance of this class, encrypt and decrypt\n",
    "back the user entered string.\n"
   ]
  },
  {
   "cell_type": "code",
   "execution_count": 1,
   "metadata": {},
   "outputs": [],
   "source": [
    "import numpy as np\n",
    "import string"
   ]
  },
  {
   "cell_type": "code",
   "execution_count": 9,
   "metadata": {},
   "outputs": [],
   "source": [
    "key = np.random.randint(0,50)\n",
    "strs = string.ascii_lowercase"
   ]
  },
  {
   "cell_type": "code",
   "execution_count": 16,
   "metadata": {},
   "outputs": [],
   "source": [
    "class Cipher:\n",
    "    def __init__(self,text):\n",
    "        self.text = text\n",
    "        self.enc =\"\"\n",
    "        self.dec = \"\"\n",
    "    def encrypt(self):\n",
    "        enc_str = list(self.text)\n",
    "        for index,i in enumerate(self.text):\n",
    "            if i.isalpha():\n",
    "                enc_str[index] = strs[(strs.index(i)+key)%26]\n",
    "        self.enc = \"\".join(enc_str)\n",
    "        return self.enc\n",
    "    \n",
    "    def decrypt(self):\n",
    "        dec_str = list(self.enc)\n",
    "        for index,i in enumerate(self.enc):\n",
    "            if i.isalpha():\n",
    "                dec_str[index] = strs[(strs.index(i)-key)%26]\n",
    "        self.dec = \"\".join(dec_str)\n",
    "        return self.dec\n"
   ]
  },
  {
   "cell_type": "code",
   "execution_count": 17,
   "metadata": {},
   "outputs": [
    {
     "name": "stdout",
     "output_type": "stream",
     "text": [
      "Enter the string:hi %^world\n",
      "The given string is hi %^world\n",
      "the Key is 3\n",
      "The encrpyted text is kl %^zruog\n",
      "The decrpyted text is hi %^world\n"
     ]
    }
   ],
   "source": [
    "text = input(\"Enter the string:\")\n",
    "mycipher= Cipher(text)\n",
    "print(\"The given string is {}\".format(mycipher.text))\n",
    "print(\"the Key is {}\".format(key))\n",
    "print(\"The encrpyted text is {}\".format(mycipher.encrypt()))\n",
    "print(\"The decrpyted text is {}\".format(mycipher.decrypt()))"
   ]
  },
  {
   "cell_type": "code",
   "execution_count": null,
   "metadata": {},
   "outputs": [],
   "source": []
  }
 ],
 "metadata": {
  "kernelspec": {
   "display_name": "Python 3",
   "language": "python",
   "name": "python3"
  },
  "language_info": {
   "codemirror_mode": {
    "name": "ipython",
    "version": 3
   },
   "file_extension": ".py",
   "mimetype": "text/x-python",
   "name": "python",
   "nbconvert_exporter": "python",
   "pygments_lexer": "ipython3",
   "version": "3.7.1"
  }
 },
 "nbformat": 4,
 "nbformat_minor": 2
}
