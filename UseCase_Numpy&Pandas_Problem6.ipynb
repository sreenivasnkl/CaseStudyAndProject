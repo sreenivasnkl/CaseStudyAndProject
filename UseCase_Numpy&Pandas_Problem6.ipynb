{
 "cells": [
  {
   "cell_type": "code",
   "execution_count": 3,
   "metadata": {},
   "outputs": [],
   "source": [
    "import pandas as pd\n",
    "import numpy as np"
   ]
  },
  {
   "cell_type": "markdown",
   "metadata": {},
   "source": [
    "## Part1"
   ]
  },
  {
   "cell_type": "code",
   "execution_count": 4,
   "metadata": {},
   "outputs": [],
   "source": [
    "ratings = pd.read_csv(\"./ml-20m/ratings.csv\")\n",
    "movies = pd.read_csv(\"./ml-20m/movies.csv\")\n",
    "tags = pd.read_csv(\"./ml-20m/tags.csv\")\n"
   ]
  },
  {
   "cell_type": "code",
   "execution_count": 19,
   "metadata": {},
   "outputs": [
    {
     "data": {
      "text/html": [
       "<div>\n",
       "<style scoped>\n",
       "    .dataframe tbody tr th:only-of-type {\n",
       "        vertical-align: middle;\n",
       "    }\n",
       "\n",
       "    .dataframe tbody tr th {\n",
       "        vertical-align: top;\n",
       "    }\n",
       "\n",
       "    .dataframe thead th {\n",
       "        text-align: right;\n",
       "    }\n",
       "</style>\n",
       "<table border=\"1\" class=\"dataframe\">\n",
       "  <thead>\n",
       "    <tr style=\"text-align: right;\">\n",
       "      <th></th>\n",
       "      <th>userId</th>\n",
       "      <th>movieId</th>\n",
       "      <th>rating</th>\n",
       "      <th>timestamp</th>\n",
       "    </tr>\n",
       "  </thead>\n",
       "  <tbody>\n",
       "    <tr>\n",
       "      <th>0</th>\n",
       "      <td>1</td>\n",
       "      <td>2</td>\n",
       "      <td>3.5</td>\n",
       "      <td>1112486027</td>\n",
       "    </tr>\n",
       "    <tr>\n",
       "      <th>1</th>\n",
       "      <td>1</td>\n",
       "      <td>29</td>\n",
       "      <td>3.5</td>\n",
       "      <td>1112484676</td>\n",
       "    </tr>\n",
       "    <tr>\n",
       "      <th>2</th>\n",
       "      <td>1</td>\n",
       "      <td>32</td>\n",
       "      <td>3.5</td>\n",
       "      <td>1112484819</td>\n",
       "    </tr>\n",
       "    <tr>\n",
       "      <th>3</th>\n",
       "      <td>1</td>\n",
       "      <td>47</td>\n",
       "      <td>3.5</td>\n",
       "      <td>1112484727</td>\n",
       "    </tr>\n",
       "    <tr>\n",
       "      <th>4</th>\n",
       "      <td>1</td>\n",
       "      <td>50</td>\n",
       "      <td>3.5</td>\n",
       "      <td>1112484580</td>\n",
       "    </tr>\n",
       "  </tbody>\n",
       "</table>\n",
       "</div>"
      ],
      "text/plain": [
       "   userId  movieId  rating   timestamp\n",
       "0       1        2     3.5  1112486027\n",
       "1       1       29     3.5  1112484676\n",
       "2       1       32     3.5  1112484819\n",
       "3       1       47     3.5  1112484727\n",
       "4       1       50     3.5  1112484580"
      ]
     },
     "execution_count": 19,
     "metadata": {},
     "output_type": "execute_result"
    }
   ],
   "source": [
    "ratings.head()"
   ]
  },
  {
   "cell_type": "code",
   "execution_count": 20,
   "metadata": {},
   "outputs": [
    {
     "data": {
      "text/html": [
       "<div>\n",
       "<style scoped>\n",
       "    .dataframe tbody tr th:only-of-type {\n",
       "        vertical-align: middle;\n",
       "    }\n",
       "\n",
       "    .dataframe tbody tr th {\n",
       "        vertical-align: top;\n",
       "    }\n",
       "\n",
       "    .dataframe thead th {\n",
       "        text-align: right;\n",
       "    }\n",
       "</style>\n",
       "<table border=\"1\" class=\"dataframe\">\n",
       "  <thead>\n",
       "    <tr style=\"text-align: right;\">\n",
       "      <th></th>\n",
       "      <th>userId</th>\n",
       "      <th>movieId</th>\n",
       "      <th>tag</th>\n",
       "      <th>timestamp</th>\n",
       "    </tr>\n",
       "  </thead>\n",
       "  <tbody>\n",
       "    <tr>\n",
       "      <th>0</th>\n",
       "      <td>18</td>\n",
       "      <td>4141</td>\n",
       "      <td>Mark Waters</td>\n",
       "      <td>1240597180</td>\n",
       "    </tr>\n",
       "    <tr>\n",
       "      <th>1</th>\n",
       "      <td>65</td>\n",
       "      <td>208</td>\n",
       "      <td>dark hero</td>\n",
       "      <td>1368150078</td>\n",
       "    </tr>\n",
       "    <tr>\n",
       "      <th>2</th>\n",
       "      <td>65</td>\n",
       "      <td>353</td>\n",
       "      <td>dark hero</td>\n",
       "      <td>1368150079</td>\n",
       "    </tr>\n",
       "    <tr>\n",
       "      <th>3</th>\n",
       "      <td>65</td>\n",
       "      <td>521</td>\n",
       "      <td>noir thriller</td>\n",
       "      <td>1368149983</td>\n",
       "    </tr>\n",
       "    <tr>\n",
       "      <th>4</th>\n",
       "      <td>65</td>\n",
       "      <td>592</td>\n",
       "      <td>dark hero</td>\n",
       "      <td>1368150078</td>\n",
       "    </tr>\n",
       "  </tbody>\n",
       "</table>\n",
       "</div>"
      ],
      "text/plain": [
       "   userId  movieId            tag   timestamp\n",
       "0      18     4141    Mark Waters  1240597180\n",
       "1      65      208      dark hero  1368150078\n",
       "2      65      353      dark hero  1368150079\n",
       "3      65      521  noir thriller  1368149983\n",
       "4      65      592      dark hero  1368150078"
      ]
     },
     "execution_count": 20,
     "metadata": {},
     "output_type": "execute_result"
    }
   ],
   "source": [
    "tags.head()"
   ]
  },
  {
   "cell_type": "code",
   "execution_count": 22,
   "metadata": {},
   "outputs": [
    {
     "data": {
      "text/html": [
       "<div>\n",
       "<style scoped>\n",
       "    .dataframe tbody tr th:only-of-type {\n",
       "        vertical-align: middle;\n",
       "    }\n",
       "\n",
       "    .dataframe tbody tr th {\n",
       "        vertical-align: top;\n",
       "    }\n",
       "\n",
       "    .dataframe thead th {\n",
       "        text-align: right;\n",
       "    }\n",
       "</style>\n",
       "<table border=\"1\" class=\"dataframe\">\n",
       "  <thead>\n",
       "    <tr style=\"text-align: right;\">\n",
       "      <th></th>\n",
       "      <th>movieId</th>\n",
       "      <th>title</th>\n",
       "      <th>genres</th>\n",
       "    </tr>\n",
       "  </thead>\n",
       "  <tbody>\n",
       "    <tr>\n",
       "      <th>0</th>\n",
       "      <td>1</td>\n",
       "      <td>Toy Story (1995)</td>\n",
       "      <td>Adventure|Animation|Children|Comedy|Fantasy</td>\n",
       "    </tr>\n",
       "    <tr>\n",
       "      <th>1</th>\n",
       "      <td>2</td>\n",
       "      <td>Jumanji (1995)</td>\n",
       "      <td>Adventure|Children|Fantasy</td>\n",
       "    </tr>\n",
       "    <tr>\n",
       "      <th>2</th>\n",
       "      <td>3</td>\n",
       "      <td>Grumpier Old Men (1995)</td>\n",
       "      <td>Comedy|Romance</td>\n",
       "    </tr>\n",
       "    <tr>\n",
       "      <th>3</th>\n",
       "      <td>4</td>\n",
       "      <td>Waiting to Exhale (1995)</td>\n",
       "      <td>Comedy|Drama|Romance</td>\n",
       "    </tr>\n",
       "    <tr>\n",
       "      <th>4</th>\n",
       "      <td>5</td>\n",
       "      <td>Father of the Bride Part II (1995)</td>\n",
       "      <td>Comedy</td>\n",
       "    </tr>\n",
       "  </tbody>\n",
       "</table>\n",
       "</div>"
      ],
      "text/plain": [
       "   movieId                               title  \\\n",
       "0        1                    Toy Story (1995)   \n",
       "1        2                      Jumanji (1995)   \n",
       "2        3             Grumpier Old Men (1995)   \n",
       "3        4            Waiting to Exhale (1995)   \n",
       "4        5  Father of the Bride Part II (1995)   \n",
       "\n",
       "                                        genres  \n",
       "0  Adventure|Animation|Children|Comedy|Fantasy  \n",
       "1                   Adventure|Children|Fantasy  \n",
       "2                               Comedy|Romance  \n",
       "3                         Comedy|Drama|Romance  \n",
       "4                                       Comedy  "
      ]
     },
     "execution_count": 22,
     "metadata": {},
     "output_type": "execute_result"
    }
   ],
   "source": [
    "movies.head()"
   ]
  },
  {
   "cell_type": "markdown",
   "metadata": {},
   "source": [
    "## Part 2"
   ]
  },
  {
   "cell_type": "code",
   "execution_count": 23,
   "metadata": {},
   "outputs": [
    {
     "data": {
      "text/plain": [
       "userId        int64\n",
       "movieId       int64\n",
       "tag          object\n",
       "timestamp     int64\n",
       "dtype: object"
      ]
     },
     "execution_count": 23,
     "metadata": {},
     "output_type": "execute_result"
    }
   ],
   "source": [
    "tags.dtypes"
   ]
  },
  {
   "cell_type": "code",
   "execution_count": 24,
   "metadata": {},
   "outputs": [
    {
     "data": {
      "text/plain": [
       "dtype('O')"
      ]
     },
     "execution_count": 24,
     "metadata": {},
     "output_type": "execute_result"
    }
   ],
   "source": [
    "tags.iloc[0].dtypes"
   ]
  },
  {
   "cell_type": "code",
   "execution_count": 25,
   "metadata": {},
   "outputs": [
    {
     "data": {
      "text/plain": [
       "userId                18\n",
       "movieId             4141\n",
       "tag          Mark Waters\n",
       "timestamp     1240597180\n",
       "Name: 0, dtype: object"
      ]
     },
     "execution_count": 25,
     "metadata": {},
     "output_type": "execute_result"
    }
   ],
   "source": [
    "tags.iloc[0]"
   ]
  },
  {
   "cell_type": "markdown",
   "metadata": {},
   "source": [
    "## Part3"
   ]
  },
  {
   "cell_type": "code",
   "execution_count": 28,
   "metadata": {},
   "outputs": [
    {
     "data": {
      "text/html": [
       "<div>\n",
       "<style scoped>\n",
       "    .dataframe tbody tr th:only-of-type {\n",
       "        vertical-align: middle;\n",
       "    }\n",
       "\n",
       "    .dataframe tbody tr th {\n",
       "        vertical-align: top;\n",
       "    }\n",
       "\n",
       "    .dataframe thead th {\n",
       "        text-align: right;\n",
       "    }\n",
       "</style>\n",
       "<table border=\"1\" class=\"dataframe\">\n",
       "  <thead>\n",
       "    <tr style=\"text-align: right;\">\n",
       "      <th></th>\n",
       "      <th>userId</th>\n",
       "      <th>movieId</th>\n",
       "      <th>tag</th>\n",
       "      <th>timestamp</th>\n",
       "    </tr>\n",
       "  </thead>\n",
       "  <tbody>\n",
       "    <tr>\n",
       "      <th>0</th>\n",
       "      <td>18</td>\n",
       "      <td>4141</td>\n",
       "      <td>Mark Waters</td>\n",
       "      <td>1240597180</td>\n",
       "    </tr>\n",
       "    <tr>\n",
       "      <th>11</th>\n",
       "      <td>65</td>\n",
       "      <td>1783</td>\n",
       "      <td>noir thriller</td>\n",
       "      <td>1368149983</td>\n",
       "    </tr>\n",
       "    <tr>\n",
       "      <th>2000</th>\n",
       "      <td>910</td>\n",
       "      <td>68554</td>\n",
       "      <td>conspiracy theory</td>\n",
       "      <td>1368043943</td>\n",
       "    </tr>\n",
       "  </tbody>\n",
       "</table>\n",
       "</div>"
      ],
      "text/plain": [
       "      userId  movieId                tag   timestamp\n",
       "0         18     4141        Mark Waters  1240597180\n",
       "11        65     1783      noir thriller  1368149983\n",
       "2000     910    68554  conspiracy theory  1368043943"
      ]
     },
     "execution_count": 28,
     "metadata": {},
     "output_type": "execute_result"
    }
   ],
   "source": [
    "tags.iloc[[0,11,2000]]"
   ]
  },
  {
   "cell_type": "markdown",
   "metadata": {},
   "source": [
    "## Part5\n"
   ]
  },
  {
   "cell_type": "code",
   "execution_count": 30,
   "metadata": {},
   "outputs": [
    {
     "data": {
      "text/html": [
       "<div>\n",
       "<style scoped>\n",
       "    .dataframe tbody tr th:only-of-type {\n",
       "        vertical-align: middle;\n",
       "    }\n",
       "\n",
       "    .dataframe tbody tr th {\n",
       "        vertical-align: top;\n",
       "    }\n",
       "\n",
       "    .dataframe thead th {\n",
       "        text-align: right;\n",
       "    }\n",
       "</style>\n",
       "<table border=\"1\" class=\"dataframe\">\n",
       "  <thead>\n",
       "    <tr style=\"text-align: right;\">\n",
       "      <th></th>\n",
       "      <th>userId</th>\n",
       "      <th>movieId</th>\n",
       "      <th>rating</th>\n",
       "      <th>timestamp</th>\n",
       "    </tr>\n",
       "  </thead>\n",
       "  <tbody>\n",
       "    <tr>\n",
       "      <th>count</th>\n",
       "      <td>2.000026e+07</td>\n",
       "      <td>2.000026e+07</td>\n",
       "      <td>2.000026e+07</td>\n",
       "      <td>2.000026e+07</td>\n",
       "    </tr>\n",
       "    <tr>\n",
       "      <th>mean</th>\n",
       "      <td>6.904587e+04</td>\n",
       "      <td>9.041567e+03</td>\n",
       "      <td>3.525529e+00</td>\n",
       "      <td>1.100918e+09</td>\n",
       "    </tr>\n",
       "    <tr>\n",
       "      <th>std</th>\n",
       "      <td>4.003863e+04</td>\n",
       "      <td>1.978948e+04</td>\n",
       "      <td>1.051989e+00</td>\n",
       "      <td>1.621694e+08</td>\n",
       "    </tr>\n",
       "    <tr>\n",
       "      <th>min</th>\n",
       "      <td>1.000000e+00</td>\n",
       "      <td>1.000000e+00</td>\n",
       "      <td>5.000000e-01</td>\n",
       "      <td>7.896520e+08</td>\n",
       "    </tr>\n",
       "    <tr>\n",
       "      <th>25%</th>\n",
       "      <td>3.439500e+04</td>\n",
       "      <td>9.020000e+02</td>\n",
       "      <td>3.000000e+00</td>\n",
       "      <td>9.667977e+08</td>\n",
       "    </tr>\n",
       "    <tr>\n",
       "      <th>50%</th>\n",
       "      <td>6.914100e+04</td>\n",
       "      <td>2.167000e+03</td>\n",
       "      <td>3.500000e+00</td>\n",
       "      <td>1.103556e+09</td>\n",
       "    </tr>\n",
       "    <tr>\n",
       "      <th>75%</th>\n",
       "      <td>1.036370e+05</td>\n",
       "      <td>4.770000e+03</td>\n",
       "      <td>4.000000e+00</td>\n",
       "      <td>1.225642e+09</td>\n",
       "    </tr>\n",
       "    <tr>\n",
       "      <th>max</th>\n",
       "      <td>1.384930e+05</td>\n",
       "      <td>1.312620e+05</td>\n",
       "      <td>5.000000e+00</td>\n",
       "      <td>1.427784e+09</td>\n",
       "    </tr>\n",
       "  </tbody>\n",
       "</table>\n",
       "</div>"
      ],
      "text/plain": [
       "             userId       movieId        rating     timestamp\n",
       "count  2.000026e+07  2.000026e+07  2.000026e+07  2.000026e+07\n",
       "mean   6.904587e+04  9.041567e+03  3.525529e+00  1.100918e+09\n",
       "std    4.003863e+04  1.978948e+04  1.051989e+00  1.621694e+08\n",
       "min    1.000000e+00  1.000000e+00  5.000000e-01  7.896520e+08\n",
       "25%    3.439500e+04  9.020000e+02  3.000000e+00  9.667977e+08\n",
       "50%    6.914100e+04  2.167000e+03  3.500000e+00  1.103556e+09\n",
       "75%    1.036370e+05  4.770000e+03  4.000000e+00  1.225642e+09\n",
       "max    1.384930e+05  1.312620e+05  5.000000e+00  1.427784e+09"
      ]
     },
     "execution_count": 30,
     "metadata": {},
     "output_type": "execute_result"
    }
   ],
   "source": [
    "ratings.describe()"
   ]
  },
  {
   "cell_type": "code",
   "execution_count": 43,
   "metadata": {},
   "outputs": [
    {
     "data": {
      "text/plain": [
       "20000263"
      ]
     },
     "execution_count": 43,
     "metadata": {},
     "output_type": "execute_result"
    }
   ],
   "source": [
    "len(ratings[[\"userId\",\"movieId\",\"rating\",\"timestamp\"]])"
   ]
  },
  {
   "cell_type": "code",
   "execution_count": 42,
   "metadata": {},
   "outputs": [
    {
     "data": {
      "text/plain": [
       "userId       6.904587e+04\n",
       "movieId      9.041567e+03\n",
       "rating       3.525529e+00\n",
       "timestamp    1.100918e+09\n",
       "dtype: float64"
      ]
     },
     "execution_count": 42,
     "metadata": {},
     "output_type": "execute_result"
    }
   ],
   "source": [
    "ratings[[\"userId\",\"movieId\",\"rating\",\"timestamp\"]].mean()"
   ]
  },
  {
   "cell_type": "code",
   "execution_count": 44,
   "metadata": {},
   "outputs": [
    {
     "data": {
      "text/plain": [
       "userId       4.003863e+04\n",
       "movieId      1.978948e+04\n",
       "rating       1.051989e+00\n",
       "timestamp    1.621694e+08\n",
       "dtype: float64"
      ]
     },
     "execution_count": 44,
     "metadata": {},
     "output_type": "execute_result"
    }
   ],
   "source": [
    "ratings[[\"userId\",\"movieId\",\"rating\",\"timestamp\"]].std()"
   ]
  },
  {
   "cell_type": "code",
   "execution_count": 45,
   "metadata": {},
   "outputs": [
    {
     "data": {
      "text/plain": [
       "userId               1.0\n",
       "movieId              1.0\n",
       "rating               0.5\n",
       "timestamp    789652004.0\n",
       "dtype: float64"
      ]
     },
     "execution_count": 45,
     "metadata": {},
     "output_type": "execute_result"
    }
   ],
   "source": [
    "ratings[[\"userId\",\"movieId\",\"rating\",\"timestamp\"]].min()"
   ]
  },
  {
   "cell_type": "code",
   "execution_count": 46,
   "metadata": {},
   "outputs": [
    {
     "data": {
      "text/plain": [
       "userId       1.384930e+05\n",
       "movieId      1.312620e+05\n",
       "rating       5.000000e+00\n",
       "timestamp    1.427784e+09\n",
       "dtype: float64"
      ]
     },
     "execution_count": 46,
     "metadata": {},
     "output_type": "execute_result"
    }
   ],
   "source": [
    "ratings[[\"userId\",\"movieId\",\"rating\",\"timestamp\"]].max()"
   ]
  },
  {
   "cell_type": "code",
   "execution_count": 47,
   "metadata": {},
   "outputs": [
    {
     "data": {
      "text/plain": [
       "userId           34395.0\n",
       "movieId            902.0\n",
       "rating               3.0\n",
       "timestamp    966797745.0\n",
       "Name: 0.25, dtype: float64"
      ]
     },
     "execution_count": 47,
     "metadata": {},
     "output_type": "execute_result"
    }
   ],
   "source": [
    "ratings[[\"userId\",\"movieId\",\"rating\",\"timestamp\"]].quantile(0.25)"
   ]
  },
  {
   "cell_type": "code",
   "execution_count": 48,
   "metadata": {},
   "outputs": [
    {
     "data": {
      "text/plain": [
       "userId       6.914100e+04\n",
       "movieId      2.167000e+03\n",
       "rating       3.500000e+00\n",
       "timestamp    1.103556e+09\n",
       "Name: 0.5, dtype: float64"
      ]
     },
     "execution_count": 48,
     "metadata": {},
     "output_type": "execute_result"
    }
   ],
   "source": [
    "ratings[[\"userId\",\"movieId\",\"rating\",\"timestamp\"]].quantile(0.5)"
   ]
  },
  {
   "cell_type": "code",
   "execution_count": 49,
   "metadata": {},
   "outputs": [
    {
     "data": {
      "text/plain": [
       "userId       1.036370e+05\n",
       "movieId      4.770000e+03\n",
       "rating       4.000000e+00\n",
       "timestamp    1.225642e+09\n",
       "Name: 0.75, dtype: float64"
      ]
     },
     "execution_count": 49,
     "metadata": {},
     "output_type": "execute_result"
    }
   ],
   "source": [
    "ratings[[\"userId\",\"movieId\",\"rating\",\"timestamp\"]].quantile(0.75)"
   ]
  },
  {
   "cell_type": "markdown",
   "metadata": {},
   "source": [
    "## Part6"
   ]
  },
  {
   "cell_type": "code",
   "execution_count": 56,
   "metadata": {},
   "outputs": [
    {
     "data": {
      "text/plain": [
       "0"
      ]
     },
     "execution_count": 56,
     "metadata": {},
     "output_type": "execute_result"
    }
   ],
   "source": [
    "rating_new = ratings[ratings[\"rating\"]>5]\n",
    "rating_new.head()\n",
    "len(rating_new)"
   ]
  },
  {
   "cell_type": "markdown",
   "metadata": {},
   "source": [
    "## Part7"
   ]
  },
  {
   "cell_type": "code",
   "execution_count": 64,
   "metadata": {},
   "outputs": [
    {
     "data": {
      "text/plain": [
       "userId       0\n",
       "movieId      0\n",
       "rating       0\n",
       "timestamp    0\n",
       "dtype: int64"
      ]
     },
     "execution_count": 64,
     "metadata": {},
     "output_type": "execute_result"
    }
   ],
   "source": [
    "(ratings.isnull().sum())"
   ]
  },
  {
   "cell_type": "markdown",
   "metadata": {},
   "source": [
    "## Part8"
   ]
  },
  {
   "cell_type": "code",
   "execution_count": 98,
   "metadata": {},
   "outputs": [
    {
     "data": {
      "text/html": [
       "<div>\n",
       "<style scoped>\n",
       "    .dataframe tbody tr th:only-of-type {\n",
       "        vertical-align: middle;\n",
       "    }\n",
       "\n",
       "    .dataframe tbody tr th {\n",
       "        vertical-align: top;\n",
       "    }\n",
       "\n",
       "    .dataframe thead th {\n",
       "        text-align: right;\n",
       "    }\n",
       "</style>\n",
       "<table border=\"1\" class=\"dataframe\">\n",
       "  <thead>\n",
       "    <tr style=\"text-align: right;\">\n",
       "      <th></th>\n",
       "      <th>movieId</th>\n",
       "      <th>title</th>\n",
       "      <th>genres</th>\n",
       "    </tr>\n",
       "  </thead>\n",
       "  <tbody>\n",
       "    <tr>\n",
       "      <th>0</th>\n",
       "      <td>1</td>\n",
       "      <td>Toy Story (1995)</td>\n",
       "      <td>Adventure|Animation|Children|Comedy|Fantasy</td>\n",
       "    </tr>\n",
       "    <tr>\n",
       "      <th>12</th>\n",
       "      <td>13</td>\n",
       "      <td>Balto (1995)</td>\n",
       "      <td>Adventure|Animation|Children</td>\n",
       "    </tr>\n",
       "    <tr>\n",
       "      <th>360</th>\n",
       "      <td>364</td>\n",
       "      <td>Lion King, The (1994)</td>\n",
       "      <td>Adventure|Animation|Children|Drama|Musical|IMAX</td>\n",
       "    </tr>\n",
       "    <tr>\n",
       "      <th>388</th>\n",
       "      <td>392</td>\n",
       "      <td>Secret Adventures of Tom Thumb, The (1993)</td>\n",
       "      <td>Adventure|Animation</td>\n",
       "    </tr>\n",
       "    <tr>\n",
       "      <th>553</th>\n",
       "      <td>558</td>\n",
       "      <td>Pagemaster, The (1994)</td>\n",
       "      <td>Action|Adventure|Animation|Children|Fantasy</td>\n",
       "    </tr>\n",
       "  </tbody>\n",
       "</table>\n",
       "</div>"
      ],
      "text/plain": [
       "     movieId                                       title  \\\n",
       "0          1                            Toy Story (1995)   \n",
       "12        13                                Balto (1995)   \n",
       "360      364                       Lion King, The (1994)   \n",
       "388      392  Secret Adventures of Tom Thumb, The (1993)   \n",
       "553      558                      Pagemaster, The (1994)   \n",
       "\n",
       "                                              genres  \n",
       "0        Adventure|Animation|Children|Comedy|Fantasy  \n",
       "12                      Adventure|Animation|Children  \n",
       "360  Adventure|Animation|Children|Drama|Musical|IMAX  \n",
       "388                              Adventure|Animation  \n",
       "553      Action|Adventure|Animation|Children|Fantasy  "
      ]
     },
     "execution_count": 98,
     "metadata": {},
     "output_type": "execute_result"
    }
   ],
   "source": [
    "movies[(movies[\"genres\"].str.find(\"Animation\")) > 0].head()"
   ]
  },
  {
   "cell_type": "markdown",
   "metadata": {},
   "source": [
    "## Part9\n"
   ]
  },
  {
   "cell_type": "code",
   "execution_count": 101,
   "metadata": {},
   "outputs": [
    {
     "data": {
      "text/plain": [
       "3.5255285642993797"
      ]
     },
     "execution_count": 101,
     "metadata": {},
     "output_type": "execute_result"
    }
   ],
   "source": [
    "ratings[\"rating\"].mean()"
   ]
  },
  {
   "cell_type": "markdown",
   "metadata": {},
   "source": [
    "## Part 10"
   ]
  },
  {
   "cell_type": "code",
   "execution_count": 107,
   "metadata": {
    "scrolled": true
   },
   "outputs": [
    {
     "data": {
      "text/html": [
       "<div>\n",
       "<style scoped>\n",
       "    .dataframe tbody tr th:only-of-type {\n",
       "        vertical-align: middle;\n",
       "    }\n",
       "\n",
       "    .dataframe tbody tr th {\n",
       "        vertical-align: top;\n",
       "    }\n",
       "\n",
       "    .dataframe thead th {\n",
       "        text-align: right;\n",
       "    }\n",
       "</style>\n",
       "<table border=\"1\" class=\"dataframe\">\n",
       "  <thead>\n",
       "    <tr style=\"text-align: right;\">\n",
       "      <th></th>\n",
       "      <th>movieId</th>\n",
       "      <th>title</th>\n",
       "      <th>genres</th>\n",
       "      <th>userId</th>\n",
       "      <th>tag</th>\n",
       "      <th>timestamp</th>\n",
       "    </tr>\n",
       "  </thead>\n",
       "  <tbody>\n",
       "    <tr>\n",
       "      <th>0</th>\n",
       "      <td>1</td>\n",
       "      <td>Toy Story (1995)</td>\n",
       "      <td>Adventure|Animation|Children|Comedy|Fantasy</td>\n",
       "      <td>1644</td>\n",
       "      <td>Watched</td>\n",
       "      <td>1417736680</td>\n",
       "    </tr>\n",
       "    <tr>\n",
       "      <th>1</th>\n",
       "      <td>1</td>\n",
       "      <td>Toy Story (1995)</td>\n",
       "      <td>Adventure|Animation|Children|Comedy|Fantasy</td>\n",
       "      <td>1741</td>\n",
       "      <td>computer animation</td>\n",
       "      <td>1183903155</td>\n",
       "    </tr>\n",
       "    <tr>\n",
       "      <th>2</th>\n",
       "      <td>1</td>\n",
       "      <td>Toy Story (1995)</td>\n",
       "      <td>Adventure|Animation|Children|Comedy|Fantasy</td>\n",
       "      <td>1741</td>\n",
       "      <td>Disney animated feature</td>\n",
       "      <td>1183933307</td>\n",
       "    </tr>\n",
       "    <tr>\n",
       "      <th>3</th>\n",
       "      <td>1</td>\n",
       "      <td>Toy Story (1995)</td>\n",
       "      <td>Adventure|Animation|Children|Comedy|Fantasy</td>\n",
       "      <td>1741</td>\n",
       "      <td>Pixar animation</td>\n",
       "      <td>1183934770</td>\n",
       "    </tr>\n",
       "    <tr>\n",
       "      <th>4</th>\n",
       "      <td>1</td>\n",
       "      <td>Toy Story (1995)</td>\n",
       "      <td>Adventure|Animation|Children|Comedy|Fantasy</td>\n",
       "      <td>1741</td>\n",
       "      <td>TÃ©a Leoni does not star in this movie</td>\n",
       "      <td>1245093573</td>\n",
       "    </tr>\n",
       "  </tbody>\n",
       "</table>\n",
       "</div>"
      ],
      "text/plain": [
       "   movieId             title                                       genres  \\\n",
       "0        1  Toy Story (1995)  Adventure|Animation|Children|Comedy|Fantasy   \n",
       "1        1  Toy Story (1995)  Adventure|Animation|Children|Comedy|Fantasy   \n",
       "2        1  Toy Story (1995)  Adventure|Animation|Children|Comedy|Fantasy   \n",
       "3        1  Toy Story (1995)  Adventure|Animation|Children|Comedy|Fantasy   \n",
       "4        1  Toy Story (1995)  Adventure|Animation|Children|Comedy|Fantasy   \n",
       "\n",
       "   userId                                     tag   timestamp  \n",
       "0    1644                                 Watched  1417736680  \n",
       "1    1741                      computer animation  1183903155  \n",
       "2    1741                 Disney animated feature  1183933307  \n",
       "3    1741                         Pixar animation  1183934770  \n",
       "4    1741  TÃ©a Leoni does not star in this movie  1245093573  "
      ]
     },
     "execution_count": 107,
     "metadata": {},
     "output_type": "execute_result"
    }
   ],
   "source": [
    "movies.merge(tags, on =\"movieId\").head()"
   ]
  },
  {
   "cell_type": "markdown",
   "metadata": {},
   "source": [
    "## Part 11"
   ]
  },
  {
   "cell_type": "code",
   "execution_count": 5,
   "metadata": {},
   "outputs": [
    {
     "data": {
      "text/html": [
       "<div>\n",
       "<style scoped>\n",
       "    .dataframe tbody tr th:only-of-type {\n",
       "        vertical-align: middle;\n",
       "    }\n",
       "\n",
       "    .dataframe tbody tr th {\n",
       "        vertical-align: top;\n",
       "    }\n",
       "\n",
       "    .dataframe thead th {\n",
       "        text-align: right;\n",
       "    }\n",
       "</style>\n",
       "<table border=\"1\" class=\"dataframe\">\n",
       "  <thead>\n",
       "    <tr style=\"text-align: right;\">\n",
       "      <th></th>\n",
       "      <th>movieId</th>\n",
       "      <th>title</th>\n",
       "      <th>genres</th>\n",
       "      <th>userId</th>\n",
       "      <th>rating</th>\n",
       "      <th>timestamp</th>\n",
       "    </tr>\n",
       "  </thead>\n",
       "  <tbody>\n",
       "    <tr>\n",
       "      <th>0</th>\n",
       "      <td>1</td>\n",
       "      <td>Toy Story (1995)</td>\n",
       "      <td>Adventure|Animation|Children|Comedy|Fantasy</td>\n",
       "      <td>3</td>\n",
       "      <td>4.0</td>\n",
       "      <td>944919407</td>\n",
       "    </tr>\n",
       "    <tr>\n",
       "      <th>1</th>\n",
       "      <td>1</td>\n",
       "      <td>Toy Story (1995)</td>\n",
       "      <td>Adventure|Animation|Children|Comedy|Fantasy</td>\n",
       "      <td>6</td>\n",
       "      <td>5.0</td>\n",
       "      <td>858275452</td>\n",
       "    </tr>\n",
       "    <tr>\n",
       "      <th>2</th>\n",
       "      <td>1</td>\n",
       "      <td>Toy Story (1995)</td>\n",
       "      <td>Adventure|Animation|Children|Comedy|Fantasy</td>\n",
       "      <td>8</td>\n",
       "      <td>4.0</td>\n",
       "      <td>833981871</td>\n",
       "    </tr>\n",
       "    <tr>\n",
       "      <th>3</th>\n",
       "      <td>1</td>\n",
       "      <td>Toy Story (1995)</td>\n",
       "      <td>Adventure|Animation|Children|Comedy|Fantasy</td>\n",
       "      <td>10</td>\n",
       "      <td>4.0</td>\n",
       "      <td>943497887</td>\n",
       "    </tr>\n",
       "    <tr>\n",
       "      <th>4</th>\n",
       "      <td>1</td>\n",
       "      <td>Toy Story (1995)</td>\n",
       "      <td>Adventure|Animation|Children|Comedy|Fantasy</td>\n",
       "      <td>11</td>\n",
       "      <td>4.5</td>\n",
       "      <td>1230858821</td>\n",
       "    </tr>\n",
       "  </tbody>\n",
       "</table>\n",
       "</div>"
      ],
      "text/plain": [
       "   movieId             title                                       genres  \\\n",
       "0        1  Toy Story (1995)  Adventure|Animation|Children|Comedy|Fantasy   \n",
       "1        1  Toy Story (1995)  Adventure|Animation|Children|Comedy|Fantasy   \n",
       "2        1  Toy Story (1995)  Adventure|Animation|Children|Comedy|Fantasy   \n",
       "3        1  Toy Story (1995)  Adventure|Animation|Children|Comedy|Fantasy   \n",
       "4        1  Toy Story (1995)  Adventure|Animation|Children|Comedy|Fantasy   \n",
       "\n",
       "   userId  rating   timestamp  \n",
       "0       3     4.0   944919407  \n",
       "1       6     5.0   858275452  \n",
       "2       8     4.0   833981871  \n",
       "3      10     4.0   943497887  \n",
       "4      11     4.5  1230858821  "
      ]
     },
     "execution_count": 5,
     "metadata": {},
     "output_type": "execute_result"
    }
   ],
   "source": [
    "new_df = movies.merge(ratings, on=\"movieId\")\n",
    "new_df.head()"
   ]
  },
  {
   "cell_type": "code",
   "execution_count": 6,
   "metadata": {
    "scrolled": true
   },
   "outputs": [
    {
     "data": {
      "text/html": [
       "<div>\n",
       "<style scoped>\n",
       "    .dataframe tbody tr th:only-of-type {\n",
       "        vertical-align: middle;\n",
       "    }\n",
       "\n",
       "    .dataframe tbody tr th {\n",
       "        vertical-align: top;\n",
       "    }\n",
       "\n",
       "    .dataframe thead th {\n",
       "        text-align: right;\n",
       "    }\n",
       "</style>\n",
       "<table border=\"1\" class=\"dataframe\">\n",
       "  <thead>\n",
       "    <tr style=\"text-align: right;\">\n",
       "      <th></th>\n",
       "      <th>movieId</th>\n",
       "      <th>title</th>\n",
       "      <th>genres</th>\n",
       "      <th>userId</th>\n",
       "      <th>rating</th>\n",
       "      <th>timestamp</th>\n",
       "    </tr>\n",
       "  </thead>\n",
       "  <tbody>\n",
       "    <tr>\n",
       "      <th>0</th>\n",
       "      <td>1</td>\n",
       "      <td>Toy Story (1995)</td>\n",
       "      <td>Adventure|Animation|Children|Comedy|Fantasy</td>\n",
       "      <td>3</td>\n",
       "      <td>4.0</td>\n",
       "      <td>944919407</td>\n",
       "    </tr>\n",
       "    <tr>\n",
       "      <th>1</th>\n",
       "      <td>1</td>\n",
       "      <td>Toy Story (1995)</td>\n",
       "      <td>Adventure|Animation|Children|Comedy|Fantasy</td>\n",
       "      <td>6</td>\n",
       "      <td>5.0</td>\n",
       "      <td>858275452</td>\n",
       "    </tr>\n",
       "    <tr>\n",
       "      <th>2</th>\n",
       "      <td>1</td>\n",
       "      <td>Toy Story (1995)</td>\n",
       "      <td>Adventure|Animation|Children|Comedy|Fantasy</td>\n",
       "      <td>8</td>\n",
       "      <td>4.0</td>\n",
       "      <td>833981871</td>\n",
       "    </tr>\n",
       "    <tr>\n",
       "      <th>3</th>\n",
       "      <td>1</td>\n",
       "      <td>Toy Story (1995)</td>\n",
       "      <td>Adventure|Animation|Children|Comedy|Fantasy</td>\n",
       "      <td>10</td>\n",
       "      <td>4.0</td>\n",
       "      <td>943497887</td>\n",
       "    </tr>\n",
       "    <tr>\n",
       "      <th>4</th>\n",
       "      <td>1</td>\n",
       "      <td>Toy Story (1995)</td>\n",
       "      <td>Adventure|Animation|Children|Comedy|Fantasy</td>\n",
       "      <td>11</td>\n",
       "      <td>4.5</td>\n",
       "      <td>1230858821</td>\n",
       "    </tr>\n",
       "  </tbody>\n",
       "</table>\n",
       "</div>"
      ],
      "text/plain": [
       "   movieId             title                                       genres  \\\n",
       "0        1  Toy Story (1995)  Adventure|Animation|Children|Comedy|Fantasy   \n",
       "1        1  Toy Story (1995)  Adventure|Animation|Children|Comedy|Fantasy   \n",
       "2        1  Toy Story (1995)  Adventure|Animation|Children|Comedy|Fantasy   \n",
       "3        1  Toy Story (1995)  Adventure|Animation|Children|Comedy|Fantasy   \n",
       "4        1  Toy Story (1995)  Adventure|Animation|Children|Comedy|Fantasy   \n",
       "\n",
       "   userId  rating   timestamp  \n",
       "0       3     4.0   944919407  \n",
       "1       6     5.0   858275452  \n",
       "2       8     4.0   833981871  \n",
       "3      10     4.0   943497887  \n",
       "4      11     4.5  1230858821  "
      ]
     },
     "execution_count": 6,
     "metadata": {},
     "output_type": "execute_result"
    }
   ],
   "source": [
    "new_df[ ((new_df[\"genres\"].str.find(\"Comedy\"))>0)].head()"
   ]
  },
  {
   "cell_type": "code",
   "execution_count": 10,
   "metadata": {},
   "outputs": [
    {
     "data": {
      "text/html": [
       "<div>\n",
       "<style scoped>\n",
       "    .dataframe tbody tr th:only-of-type {\n",
       "        vertical-align: middle;\n",
       "    }\n",
       "\n",
       "    .dataframe tbody tr th {\n",
       "        vertical-align: top;\n",
       "    }\n",
       "\n",
       "    .dataframe thead th {\n",
       "        text-align: right;\n",
       "    }\n",
       "</style>\n",
       "<table border=\"1\" class=\"dataframe\">\n",
       "  <thead>\n",
       "    <tr style=\"text-align: right;\">\n",
       "      <th></th>\n",
       "      <th>movieId</th>\n",
       "      <th>title</th>\n",
       "      <th>genres</th>\n",
       "      <th>userId</th>\n",
       "      <th>rating</th>\n",
       "      <th>timestamp</th>\n",
       "    </tr>\n",
       "  </thead>\n",
       "  <tbody>\n",
       "    <tr>\n",
       "      <th>1</th>\n",
       "      <td>1</td>\n",
       "      <td>Toy Story (1995)</td>\n",
       "      <td>Adventure|Animation|Children|Comedy|Fantasy</td>\n",
       "      <td>6</td>\n",
       "      <td>5.0</td>\n",
       "      <td>858275452</td>\n",
       "    </tr>\n",
       "    <tr>\n",
       "      <th>4</th>\n",
       "      <td>1</td>\n",
       "      <td>Toy Story (1995)</td>\n",
       "      <td>Adventure|Animation|Children|Comedy|Fantasy</td>\n",
       "      <td>11</td>\n",
       "      <td>4.5</td>\n",
       "      <td>1230858821</td>\n",
       "    </tr>\n",
       "    <tr>\n",
       "      <th>7</th>\n",
       "      <td>1</td>\n",
       "      <td>Toy Story (1995)</td>\n",
       "      <td>Adventure|Animation|Children|Comedy|Fantasy</td>\n",
       "      <td>14</td>\n",
       "      <td>4.5</td>\n",
       "      <td>1225311239</td>\n",
       "    </tr>\n",
       "    <tr>\n",
       "      <th>9</th>\n",
       "      <td>1</td>\n",
       "      <td>Toy Story (1995)</td>\n",
       "      <td>Adventure|Animation|Children|Comedy|Fantasy</td>\n",
       "      <td>19</td>\n",
       "      <td>5.0</td>\n",
       "      <td>855176628</td>\n",
       "    </tr>\n",
       "    <tr>\n",
       "      <th>14</th>\n",
       "      <td>1</td>\n",
       "      <td>Toy Story (1995)</td>\n",
       "      <td>Adventure|Animation|Children|Comedy|Fantasy</td>\n",
       "      <td>34</td>\n",
       "      <td>5.0</td>\n",
       "      <td>846509445</td>\n",
       "    </tr>\n",
       "  </tbody>\n",
       "</table>\n",
       "</div>"
      ],
      "text/plain": [
       "    movieId             title                                       genres  \\\n",
       "1         1  Toy Story (1995)  Adventure|Animation|Children|Comedy|Fantasy   \n",
       "4         1  Toy Story (1995)  Adventure|Animation|Children|Comedy|Fantasy   \n",
       "7         1  Toy Story (1995)  Adventure|Animation|Children|Comedy|Fantasy   \n",
       "9         1  Toy Story (1995)  Adventure|Animation|Children|Comedy|Fantasy   \n",
       "14        1  Toy Story (1995)  Adventure|Animation|Children|Comedy|Fantasy   \n",
       "\n",
       "    userId  rating   timestamp  \n",
       "1        6     5.0   858275452  \n",
       "4       11     4.5  1230858821  \n",
       "7       14     4.5  1225311239  \n",
       "9       19     5.0   855176628  \n",
       "14      34     5.0   846509445  "
      ]
     },
     "execution_count": 10,
     "metadata": {},
     "output_type": "execute_result"
    }
   ],
   "source": [
    "new_df[ ((new_df[\"genres\"].str.find(\"Comedy\"))>0) & (new_df[\"rating\"] > 4)].head()"
   ]
  },
  {
   "cell_type": "markdown",
   "metadata": {},
   "source": [
    "## Part 12\n"
   ]
  },
  {
   "cell_type": "code",
   "execution_count": 142,
   "metadata": {},
   "outputs": [
    {
     "data": {
      "text/html": [
       "<div>\n",
       "<style scoped>\n",
       "    .dataframe tbody tr th:only-of-type {\n",
       "        vertical-align: middle;\n",
       "    }\n",
       "\n",
       "    .dataframe tbody tr th {\n",
       "        vertical-align: top;\n",
       "    }\n",
       "\n",
       "    .dataframe thead th {\n",
       "        text-align: right;\n",
       "    }\n",
       "</style>\n",
       "<table border=\"1\" class=\"dataframe\">\n",
       "  <thead>\n",
       "    <tr style=\"text-align: right;\">\n",
       "      <th></th>\n",
       "      <th>0</th>\n",
       "      <th>1</th>\n",
       "      <th>2</th>\n",
       "      <th>3</th>\n",
       "      <th>4</th>\n",
       "      <th>5</th>\n",
       "      <th>6</th>\n",
       "      <th>7</th>\n",
       "      <th>8</th>\n",
       "      <th>9</th>\n",
       "    </tr>\n",
       "  </thead>\n",
       "  <tbody>\n",
       "    <tr>\n",
       "      <th>0</th>\n",
       "      <td>Adventure</td>\n",
       "      <td>Animation</td>\n",
       "      <td>Children</td>\n",
       "      <td>Comedy</td>\n",
       "      <td>Fantasy</td>\n",
       "      <td>None</td>\n",
       "      <td>None</td>\n",
       "      <td>None</td>\n",
       "      <td>None</td>\n",
       "      <td>None</td>\n",
       "    </tr>\n",
       "    <tr>\n",
       "      <th>1</th>\n",
       "      <td>Adventure</td>\n",
       "      <td>Children</td>\n",
       "      <td>Fantasy</td>\n",
       "      <td>None</td>\n",
       "      <td>None</td>\n",
       "      <td>None</td>\n",
       "      <td>None</td>\n",
       "      <td>None</td>\n",
       "      <td>None</td>\n",
       "      <td>None</td>\n",
       "    </tr>\n",
       "    <tr>\n",
       "      <th>2</th>\n",
       "      <td>Comedy</td>\n",
       "      <td>Romance</td>\n",
       "      <td>None</td>\n",
       "      <td>None</td>\n",
       "      <td>None</td>\n",
       "      <td>None</td>\n",
       "      <td>None</td>\n",
       "      <td>None</td>\n",
       "      <td>None</td>\n",
       "      <td>None</td>\n",
       "    </tr>\n",
       "    <tr>\n",
       "      <th>3</th>\n",
       "      <td>Comedy</td>\n",
       "      <td>Drama</td>\n",
       "      <td>Romance</td>\n",
       "      <td>None</td>\n",
       "      <td>None</td>\n",
       "      <td>None</td>\n",
       "      <td>None</td>\n",
       "      <td>None</td>\n",
       "      <td>None</td>\n",
       "      <td>None</td>\n",
       "    </tr>\n",
       "    <tr>\n",
       "      <th>4</th>\n",
       "      <td>Comedy</td>\n",
       "      <td>None</td>\n",
       "      <td>None</td>\n",
       "      <td>None</td>\n",
       "      <td>None</td>\n",
       "      <td>None</td>\n",
       "      <td>None</td>\n",
       "      <td>None</td>\n",
       "      <td>None</td>\n",
       "      <td>None</td>\n",
       "    </tr>\n",
       "  </tbody>\n",
       "</table>\n",
       "</div>"
      ],
      "text/plain": [
       "           0          1         2       3        4     5     6     7     8  \\\n",
       "0  Adventure  Animation  Children  Comedy  Fantasy  None  None  None  None   \n",
       "1  Adventure   Children   Fantasy    None     None  None  None  None  None   \n",
       "2     Comedy    Romance      None    None     None  None  None  None  None   \n",
       "3     Comedy      Drama   Romance    None     None  None  None  None  None   \n",
       "4     Comedy       None      None    None     None  None  None  None  None   \n",
       "\n",
       "      9  \n",
       "0  None  \n",
       "1  None  \n",
       "2  None  \n",
       "3  None  \n",
       "4  None  "
      ]
     },
     "execution_count": 142,
     "metadata": {},
     "output_type": "execute_result"
    }
   ],
   "source": [
    " x =pd.DataFrame(list(movies[\"genres\"].apply(lambda x: x.split(\"|\"))))\n",
    "x.head()\n"
   ]
  },
  {
   "cell_type": "code",
   "execution_count": 156,
   "metadata": {},
   "outputs": [
    {
     "data": {
      "text/plain": [
       "27277"
      ]
     },
     "execution_count": 156,
     "metadata": {},
     "output_type": "execute_result"
    }
   ],
   "source": [
    "## verifying none values\n",
    "x.loc[:,9].value_counts()\n",
    "x.loc[:,9].isna().sum()"
   ]
  },
  {
   "cell_type": "code",
   "execution_count": 152,
   "metadata": {},
   "outputs": [
    {
     "data": {
      "text/plain": [
       "27278"
      ]
     },
     "execution_count": 152,
     "metadata": {},
     "output_type": "execute_result"
    }
   ],
   "source": [
    "len(x)"
   ]
  },
  {
   "cell_type": "code",
   "execution_count": 155,
   "metadata": {},
   "outputs": [
    {
     "data": {
      "text/plain": [
       "1"
      ]
     },
     "execution_count": 155,
     "metadata": {},
     "output_type": "execute_result"
    }
   ],
   "source": [
    "x.loc[:,9].count()"
   ]
  },
  {
   "cell_type": "markdown",
   "metadata": {},
   "source": [
    "## Part 13"
   ]
  },
  {
   "cell_type": "code",
   "execution_count": 9,
   "metadata": {},
   "outputs": [
    {
     "data": {
      "text/plain": [
       "0    1995\n",
       "1    1995\n",
       "2    1995\n",
       "3    1995\n",
       "4    1995\n",
       "Name: title, dtype: object"
      ]
     },
     "execution_count": 9,
     "metadata": {},
     "output_type": "execute_result"
    }
   ],
   "source": [
    "movies[\"title\"].apply(lambda x : x[-5:-1]).head()"
   ]
  },
  {
   "cell_type": "markdown",
   "metadata": {},
   "source": [
    "## pArt 14\n"
   ]
  },
  {
   "cell_type": "code",
   "execution_count": 159,
   "metadata": {},
   "outputs": [
    {
     "data": {
      "text/plain": [
       "1422729000.0"
      ]
     },
     "execution_count": 159,
     "metadata": {},
     "output_type": "execute_result"
    }
   ],
   "source": [
    "import time\n",
    "import datetime\n",
    "date = \"01/02/2015\"\n",
    "timestamp = time.mktime(datetime.datetime.strptime(date, \"%d/%m/%Y\").timetuple())\n",
    "timestamp"
   ]
  },
  {
   "cell_type": "code",
   "execution_count": 163,
   "metadata": {},
   "outputs": [
    {
     "data": {
      "text/html": [
       "<div>\n",
       "<style scoped>\n",
       "    .dataframe tbody tr th:only-of-type {\n",
       "        vertical-align: middle;\n",
       "    }\n",
       "\n",
       "    .dataframe tbody tr th {\n",
       "        vertical-align: top;\n",
       "    }\n",
       "\n",
       "    .dataframe thead th {\n",
       "        text-align: right;\n",
       "    }\n",
       "</style>\n",
       "<table border=\"1\" class=\"dataframe\">\n",
       "  <thead>\n",
       "    <tr style=\"text-align: right;\">\n",
       "      <th></th>\n",
       "      <th>userId</th>\n",
       "      <th>movieId</th>\n",
       "      <th>tag</th>\n",
       "      <th>timestamp</th>\n",
       "    </tr>\n",
       "  </thead>\n",
       "  <tbody>\n",
       "    <tr>\n",
       "      <th>301</th>\n",
       "      <td>318</td>\n",
       "      <td>260</td>\n",
       "      <td>1970s</td>\n",
       "      <td>1424472169</td>\n",
       "    </tr>\n",
       "    <tr>\n",
       "      <th>302</th>\n",
       "      <td>318</td>\n",
       "      <td>260</td>\n",
       "      <td>fantasy</td>\n",
       "      <td>1424472169</td>\n",
       "    </tr>\n",
       "    <tr>\n",
       "      <th>303</th>\n",
       "      <td>318</td>\n",
       "      <td>260</td>\n",
       "      <td>sci-fi</td>\n",
       "      <td>1424472169</td>\n",
       "    </tr>\n",
       "    <tr>\n",
       "      <th>304</th>\n",
       "      <td>318</td>\n",
       "      <td>115149</td>\n",
       "      <td>Action</td>\n",
       "      <td>1424534310</td>\n",
       "    </tr>\n",
       "    <tr>\n",
       "      <th>305</th>\n",
       "      <td>318</td>\n",
       "      <td>115149</td>\n",
       "      <td>Revenge</td>\n",
       "      <td>1424534283</td>\n",
       "    </tr>\n",
       "  </tbody>\n",
       "</table>\n",
       "</div>"
      ],
      "text/plain": [
       "     userId  movieId      tag   timestamp\n",
       "301     318      260    1970s  1424472169\n",
       "302     318      260  fantasy  1424472169\n",
       "303     318      260   sci-fi  1424472169\n",
       "304     318   115149   Action  1424534310\n",
       "305     318   115149  Revenge  1424534283"
      ]
     },
     "execution_count": 163,
     "metadata": {},
     "output_type": "execute_result"
    }
   ],
   "source": [
    "tags[tags[\"timestamp\"]>timestamp].head()"
   ]
  },
  {
   "cell_type": "markdown",
   "metadata": {},
   "source": [
    "## Part15"
   ]
  },
  {
   "cell_type": "code",
   "execution_count": 11,
   "metadata": {},
   "outputs": [
    {
     "data": {
      "text/html": [
       "<div>\n",
       "<style scoped>\n",
       "    .dataframe tbody tr th:only-of-type {\n",
       "        vertical-align: middle;\n",
       "    }\n",
       "\n",
       "    .dataframe tbody tr th {\n",
       "        vertical-align: top;\n",
       "    }\n",
       "\n",
       "    .dataframe thead th {\n",
       "        text-align: right;\n",
       "    }\n",
       "</style>\n",
       "<table border=\"1\" class=\"dataframe\">\n",
       "  <thead>\n",
       "    <tr style=\"text-align: right;\">\n",
       "      <th></th>\n",
       "      <th>userId</th>\n",
       "      <th>movieId</th>\n",
       "      <th>tag</th>\n",
       "      <th>timestamp</th>\n",
       "    </tr>\n",
       "  </thead>\n",
       "  <tbody>\n",
       "    <tr>\n",
       "      <th>333932</th>\n",
       "      <td>100371</td>\n",
       "      <td>2788</td>\n",
       "      <td>monty python</td>\n",
       "      <td>1135429210</td>\n",
       "    </tr>\n",
       "    <tr>\n",
       "      <th>333927</th>\n",
       "      <td>100371</td>\n",
       "      <td>1732</td>\n",
       "      <td>coen brothers</td>\n",
       "      <td>1135429236</td>\n",
       "    </tr>\n",
       "    <tr>\n",
       "      <th>333924</th>\n",
       "      <td>100371</td>\n",
       "      <td>1206</td>\n",
       "      <td>stanley kubrick</td>\n",
       "      <td>1135429248</td>\n",
       "    </tr>\n",
       "    <tr>\n",
       "      <th>333923</th>\n",
       "      <td>100371</td>\n",
       "      <td>1193</td>\n",
       "      <td>jack nicholson</td>\n",
       "      <td>1135429371</td>\n",
       "    </tr>\n",
       "    <tr>\n",
       "      <th>333939</th>\n",
       "      <td>100371</td>\n",
       "      <td>5004</td>\n",
       "      <td>peter sellers</td>\n",
       "      <td>1135429399</td>\n",
       "    </tr>\n",
       "  </tbody>\n",
       "</table>\n",
       "</div>"
      ],
      "text/plain": [
       "        userId  movieId              tag   timestamp\n",
       "333932  100371     2788     monty python  1135429210\n",
       "333927  100371     1732    coen brothers  1135429236\n",
       "333924  100371     1206  stanley kubrick  1135429248\n",
       "333923  100371     1193   jack nicholson  1135429371\n",
       "333939  100371     5004    peter sellers  1135429399"
      ]
     },
     "execution_count": 11,
     "metadata": {},
     "output_type": "execute_result"
    }
   ],
   "source": [
    "tags.sort_values(\"timestamp\").head()"
   ]
  },
  {
   "cell_type": "code",
   "execution_count": 15,
   "metadata": {},
   "outputs": [],
   "source": [
    "tags[\"newDate\"] = tags[\"timestamp\"].apply(lambda x: pd.to_datetime(x, unit=\"s\"))"
   ]
  },
  {
   "cell_type": "code",
   "execution_count": 16,
   "metadata": {},
   "outputs": [
    {
     "data": {
      "text/plain": [
       "0   2009-04-24 18:19:40\n",
       "1   2013-05-10 01:41:18\n",
       "2   2013-05-10 01:41:19\n",
       "3   2013-05-10 01:39:43\n",
       "4   2013-05-10 01:41:18\n",
       "Name: newDate, dtype: datetime64[ns]"
      ]
     },
     "execution_count": 16,
     "metadata": {},
     "output_type": "execute_result"
    }
   ],
   "source": [
    "tags[\"newDate\"].head()"
   ]
  },
  {
   "cell_type": "code",
   "execution_count": 21,
   "metadata": {},
   "outputs": [
    {
     "data": {
      "text/html": [
       "<div>\n",
       "<style scoped>\n",
       "    .dataframe tbody tr th:only-of-type {\n",
       "        vertical-align: middle;\n",
       "    }\n",
       "\n",
       "    .dataframe tbody tr th {\n",
       "        vertical-align: top;\n",
       "    }\n",
       "\n",
       "    .dataframe thead th {\n",
       "        text-align: right;\n",
       "    }\n",
       "</style>\n",
       "<table border=\"1\" class=\"dataframe\">\n",
       "  <thead>\n",
       "    <tr style=\"text-align: right;\">\n",
       "      <th></th>\n",
       "      <th>userId</th>\n",
       "      <th>movieId</th>\n",
       "      <th>tag</th>\n",
       "      <th>timestamp</th>\n",
       "      <th>newDate</th>\n",
       "    </tr>\n",
       "  </thead>\n",
       "  <tbody>\n",
       "    <tr>\n",
       "      <th>301</th>\n",
       "      <td>318</td>\n",
       "      <td>260</td>\n",
       "      <td>1970s</td>\n",
       "      <td>1424472169</td>\n",
       "      <td>2015-02-20 22:42:49</td>\n",
       "    </tr>\n",
       "    <tr>\n",
       "      <th>302</th>\n",
       "      <td>318</td>\n",
       "      <td>260</td>\n",
       "      <td>fantasy</td>\n",
       "      <td>1424472169</td>\n",
       "      <td>2015-02-20 22:42:49</td>\n",
       "    </tr>\n",
       "    <tr>\n",
       "      <th>303</th>\n",
       "      <td>318</td>\n",
       "      <td>260</td>\n",
       "      <td>sci-fi</td>\n",
       "      <td>1424472169</td>\n",
       "      <td>2015-02-20 22:42:49</td>\n",
       "    </tr>\n",
       "    <tr>\n",
       "      <th>304</th>\n",
       "      <td>318</td>\n",
       "      <td>115149</td>\n",
       "      <td>Action</td>\n",
       "      <td>1424534310</td>\n",
       "      <td>2015-02-21 15:58:30</td>\n",
       "    </tr>\n",
       "    <tr>\n",
       "      <th>305</th>\n",
       "      <td>318</td>\n",
       "      <td>115149</td>\n",
       "      <td>Revenge</td>\n",
       "      <td>1424534283</td>\n",
       "      <td>2015-02-21 15:58:03</td>\n",
       "    </tr>\n",
       "    <tr>\n",
       "      <th>306</th>\n",
       "      <td>318</td>\n",
       "      <td>115149</td>\n",
       "      <td>Willem Dafoe</td>\n",
       "      <td>1424534383</td>\n",
       "      <td>2015-02-21 15:59:43</td>\n",
       "    </tr>\n",
       "    <tr>\n",
       "      <th>324</th>\n",
       "      <td>342</td>\n",
       "      <td>318</td>\n",
       "      <td>masterplan</td>\n",
       "      <td>1423424898</td>\n",
       "      <td>2015-02-08 19:48:18</td>\n",
       "    </tr>\n",
       "    <tr>\n",
       "      <th>326</th>\n",
       "      <td>342</td>\n",
       "      <td>318</td>\n",
       "      <td>prison escape</td>\n",
       "      <td>1423424898</td>\n",
       "      <td>2015-02-08 19:48:18</td>\n",
       "    </tr>\n",
       "    <tr>\n",
       "      <th>327</th>\n",
       "      <td>342</td>\n",
       "      <td>318</td>\n",
       "      <td>redemption</td>\n",
       "      <td>1423424898</td>\n",
       "      <td>2015-02-08 19:48:18</td>\n",
       "    </tr>\n",
       "    <tr>\n",
       "      <th>589</th>\n",
       "      <td>342</td>\n",
       "      <td>108190</td>\n",
       "      <td>based on a book</td>\n",
       "      <td>1426978115</td>\n",
       "      <td>2015-03-21 22:48:35</td>\n",
       "    </tr>\n",
       "    <tr>\n",
       "      <th>590</th>\n",
       "      <td>342</td>\n",
       "      <td>108190</td>\n",
       "      <td>dystopia</td>\n",
       "      <td>1426978076</td>\n",
       "      <td>2015-03-21 22:47:56</td>\n",
       "    </tr>\n",
       "    <tr>\n",
       "      <th>1018</th>\n",
       "      <td>370</td>\n",
       "      <td>6975</td>\n",
       "      <td>breaking the fourth wall</td>\n",
       "      <td>1425242234</td>\n",
       "      <td>2015-03-01 20:37:14</td>\n",
       "    </tr>\n",
       "    <tr>\n",
       "      <th>1019</th>\n",
       "      <td>370</td>\n",
       "      <td>27592</td>\n",
       "      <td>violent</td>\n",
       "      <td>1425241975</td>\n",
       "      <td>2015-03-01 20:32:55</td>\n",
       "    </tr>\n",
       "    <tr>\n",
       "      <th>2203</th>\n",
       "      <td>969</td>\n",
       "      <td>97</td>\n",
       "      <td>class conflict</td>\n",
       "      <td>1426754226</td>\n",
       "      <td>2015-03-19 08:37:06</td>\n",
       "    </tr>\n",
       "    <tr>\n",
       "      <th>2204</th>\n",
       "      <td>969</td>\n",
       "      <td>288</td>\n",
       "      <td>mindfuck</td>\n",
       "      <td>1426752631</td>\n",
       "      <td>2015-03-19 08:10:31</td>\n",
       "    </tr>\n",
       "    <tr>\n",
       "      <th>2205</th>\n",
       "      <td>969</td>\n",
       "      <td>288</td>\n",
       "      <td>paranoid</td>\n",
       "      <td>1426752639</td>\n",
       "      <td>2015-03-19 08:10:39</td>\n",
       "    </tr>\n",
       "    <tr>\n",
       "      <th>2206</th>\n",
       "      <td>969</td>\n",
       "      <td>288</td>\n",
       "      <td>psychedelic</td>\n",
       "      <td>1426752634</td>\n",
       "      <td>2015-03-19 08:10:34</td>\n",
       "    </tr>\n",
       "    <tr>\n",
       "      <th>2207</th>\n",
       "      <td>969</td>\n",
       "      <td>1263</td>\n",
       "      <td>american propaganda</td>\n",
       "      <td>1426753995</td>\n",
       "      <td>2015-03-19 08:33:15</td>\n",
       "    </tr>\n",
       "    <tr>\n",
       "      <th>2208</th>\n",
       "      <td>969</td>\n",
       "      <td>3742</td>\n",
       "      <td>class conflict</td>\n",
       "      <td>1426753876</td>\n",
       "      <td>2015-03-19 08:31:16</td>\n",
       "    </tr>\n",
       "    <tr>\n",
       "      <th>2209</th>\n",
       "      <td>969</td>\n",
       "      <td>3742</td>\n",
       "      <td>Classic</td>\n",
       "      <td>1426754311</td>\n",
       "      <td>2015-03-19 08:38:31</td>\n",
       "    </tr>\n",
       "    <tr>\n",
       "      <th>2210</th>\n",
       "      <td>969</td>\n",
       "      <td>3742</td>\n",
       "      <td>Propaganda</td>\n",
       "      <td>1426754337</td>\n",
       "      <td>2015-03-19 08:38:57</td>\n",
       "    </tr>\n",
       "    <tr>\n",
       "      <th>2211</th>\n",
       "      <td>969</td>\n",
       "      <td>4848</td>\n",
       "      <td>Atmospheric</td>\n",
       "      <td>1426752575</td>\n",
       "      <td>2015-03-19 08:09:35</td>\n",
       "    </tr>\n",
       "    <tr>\n",
       "      <th>2212</th>\n",
       "      <td>969</td>\n",
       "      <td>4848</td>\n",
       "      <td>dark</td>\n",
       "      <td>1426752581</td>\n",
       "      <td>2015-03-19 08:09:41</td>\n",
       "    </tr>\n",
       "    <tr>\n",
       "      <th>2213</th>\n",
       "      <td>969</td>\n",
       "      <td>4848</td>\n",
       "      <td>Mindfuck</td>\n",
       "      <td>1426752569</td>\n",
       "      <td>2015-03-19 08:09:29</td>\n",
       "    </tr>\n",
       "    <tr>\n",
       "      <th>2214</th>\n",
       "      <td>969</td>\n",
       "      <td>6530</td>\n",
       "      <td>claustrophobic</td>\n",
       "      <td>1426753144</td>\n",
       "      <td>2015-03-19 08:19:04</td>\n",
       "    </tr>\n",
       "    <tr>\n",
       "      <th>2215</th>\n",
       "      <td>969</td>\n",
       "      <td>6530</td>\n",
       "      <td>mental illness</td>\n",
       "      <td>1426751285</td>\n",
       "      <td>2015-03-19 07:48:05</td>\n",
       "    </tr>\n",
       "    <tr>\n",
       "      <th>2216</th>\n",
       "      <td>969</td>\n",
       "      <td>6530</td>\n",
       "      <td>suicide</td>\n",
       "      <td>1426751289</td>\n",
       "      <td>2015-03-19 07:48:09</td>\n",
       "    </tr>\n",
       "    <tr>\n",
       "      <th>2217</th>\n",
       "      <td>969</td>\n",
       "      <td>8950</td>\n",
       "      <td>depressing</td>\n",
       "      <td>1426749117</td>\n",
       "      <td>2015-03-19 07:11:57</td>\n",
       "    </tr>\n",
       "    <tr>\n",
       "      <th>2218</th>\n",
       "      <td>969</td>\n",
       "      <td>8950</td>\n",
       "      <td>psychodrama</td>\n",
       "      <td>1426752695</td>\n",
       "      <td>2015-03-19 08:11:35</td>\n",
       "    </tr>\n",
       "    <tr>\n",
       "      <th>2219</th>\n",
       "      <td>969</td>\n",
       "      <td>8950</td>\n",
       "      <td>schizophrenia</td>\n",
       "      <td>1426752689</td>\n",
       "      <td>2015-03-19 08:11:29</td>\n",
       "    </tr>\n",
       "    <tr>\n",
       "      <th>...</th>\n",
       "      <td>...</td>\n",
       "      <td>...</td>\n",
       "      <td>...</td>\n",
       "      <td>...</td>\n",
       "      <td>...</td>\n",
       "    </tr>\n",
       "    <tr>\n",
       "      <th>461895</th>\n",
       "      <td>137227</td>\n",
       "      <td>120222</td>\n",
       "      <td>horribly animated</td>\n",
       "      <td>1422821079</td>\n",
       "      <td>2015-02-01 20:04:39</td>\n",
       "    </tr>\n",
       "    <tr>\n",
       "      <th>461896</th>\n",
       "      <td>137227</td>\n",
       "      <td>120222</td>\n",
       "      <td>nazi imagery</td>\n",
       "      <td>1422821051</td>\n",
       "      <td>2015-02-01 20:04:11</td>\n",
       "    </tr>\n",
       "    <tr>\n",
       "      <th>461897</th>\n",
       "      <td>137227</td>\n",
       "      <td>120222</td>\n",
       "      <td>racist</td>\n",
       "      <td>1422821047</td>\n",
       "      <td>2015-02-01 20:04:07</td>\n",
       "    </tr>\n",
       "    <tr>\n",
       "      <th>461898</th>\n",
       "      <td>137227</td>\n",
       "      <td>120222</td>\n",
       "      <td>racist stereotypes</td>\n",
       "      <td>1422821071</td>\n",
       "      <td>2015-02-01 20:04:31</td>\n",
       "    </tr>\n",
       "    <tr>\n",
       "      <th>462190</th>\n",
       "      <td>137249</td>\n",
       "      <td>296</td>\n",
       "      <td>influential</td>\n",
       "      <td>1423437040</td>\n",
       "      <td>2015-02-08 23:10:40</td>\n",
       "    </tr>\n",
       "    <tr>\n",
       "      <th>462191</th>\n",
       "      <td>137249</td>\n",
       "      <td>296</td>\n",
       "      <td>neo-noir</td>\n",
       "      <td>1423437040</td>\n",
       "      <td>2015-02-08 23:10:40</td>\n",
       "    </tr>\n",
       "    <tr>\n",
       "      <th>462192</th>\n",
       "      <td>137249</td>\n",
       "      <td>296</td>\n",
       "      <td>quentin tarantino</td>\n",
       "      <td>1423437040</td>\n",
       "      <td>2015-02-08 23:10:40</td>\n",
       "    </tr>\n",
       "    <tr>\n",
       "      <th>462195</th>\n",
       "      <td>137277</td>\n",
       "      <td>110052</td>\n",
       "      <td>marcello mastroianni,</td>\n",
       "      <td>1422925214</td>\n",
       "      <td>2015-02-03 01:00:14</td>\n",
       "    </tr>\n",
       "    <tr>\n",
       "      <th>462979</th>\n",
       "      <td>137924</td>\n",
       "      <td>46855</td>\n",
       "      <td>Criterion</td>\n",
       "      <td>1427722627</td>\n",
       "      <td>2015-03-30 13:37:07</td>\n",
       "    </tr>\n",
       "    <tr>\n",
       "      <th>462980</th>\n",
       "      <td>137924</td>\n",
       "      <td>46855</td>\n",
       "      <td>French Resistance</td>\n",
       "      <td>1427722622</td>\n",
       "      <td>2015-03-30 13:37:02</td>\n",
       "    </tr>\n",
       "    <tr>\n",
       "      <th>462981</th>\n",
       "      <td>137924</td>\n",
       "      <td>46855</td>\n",
       "      <td>World War II</td>\n",
       "      <td>1427722614</td>\n",
       "      <td>2015-03-30 13:36:54</td>\n",
       "    </tr>\n",
       "    <tr>\n",
       "      <th>463004</th>\n",
       "      <td>138063</td>\n",
       "      <td>4355</td>\n",
       "      <td>Hockey</td>\n",
       "      <td>1424230535</td>\n",
       "      <td>2015-02-18 03:35:35</td>\n",
       "    </tr>\n",
       "    <tr>\n",
       "      <th>463005</th>\n",
       "      <td>138063</td>\n",
       "      <td>108160</td>\n",
       "      <td>Hockey</td>\n",
       "      <td>1424230501</td>\n",
       "      <td>2015-02-18 03:35:01</td>\n",
       "    </tr>\n",
       "    <tr>\n",
       "      <th>463504</th>\n",
       "      <td>138103</td>\n",
       "      <td>67894</td>\n",
       "      <td>finnish</td>\n",
       "      <td>1423255773</td>\n",
       "      <td>2015-02-06 20:49:33</td>\n",
       "    </tr>\n",
       "    <tr>\n",
       "      <th>463509</th>\n",
       "      <td>138103</td>\n",
       "      <td>69442</td>\n",
       "      <td>finnish</td>\n",
       "      <td>1423255750</td>\n",
       "      <td>2015-02-06 20:49:10</td>\n",
       "    </tr>\n",
       "    <tr>\n",
       "      <th>463544</th>\n",
       "      <td>138103</td>\n",
       "      <td>73501</td>\n",
       "      <td>finnish</td>\n",
       "      <td>1423255756</td>\n",
       "      <td>2015-02-06 20:49:16</td>\n",
       "    </tr>\n",
       "    <tr>\n",
       "      <th>463545</th>\n",
       "      <td>138103</td>\n",
       "      <td>74681</td>\n",
       "      <td>finnish</td>\n",
       "      <td>1423255760</td>\n",
       "      <td>2015-02-06 20:49:20</td>\n",
       "    </tr>\n",
       "    <tr>\n",
       "      <th>463573</th>\n",
       "      <td>138103</td>\n",
       "      <td>84553</td>\n",
       "      <td>finnish</td>\n",
       "      <td>1423255764</td>\n",
       "      <td>2015-02-06 20:49:24</td>\n",
       "    </tr>\n",
       "    <tr>\n",
       "      <th>464786</th>\n",
       "      <td>138301</td>\n",
       "      <td>52042</td>\n",
       "      <td>espionage</td>\n",
       "      <td>1426032479</td>\n",
       "      <td>2015-03-11 00:07:59</td>\n",
       "    </tr>\n",
       "    <tr>\n",
       "      <th>464787</th>\n",
       "      <td>138301</td>\n",
       "      <td>52042</td>\n",
       "      <td>resistance movement</td>\n",
       "      <td>1426032481</td>\n",
       "      <td>2015-03-11 00:08:01</td>\n",
       "    </tr>\n",
       "    <tr>\n",
       "      <th>464788</th>\n",
       "      <td>138301</td>\n",
       "      <td>52042</td>\n",
       "      <td>World War II</td>\n",
       "      <td>1426032485</td>\n",
       "      <td>2015-03-11 00:08:05</td>\n",
       "    </tr>\n",
       "    <tr>\n",
       "      <th>464958</th>\n",
       "      <td>138301</td>\n",
       "      <td>109487</td>\n",
       "      <td>ambitious</td>\n",
       "      <td>1423178287</td>\n",
       "      <td>2015-02-05 23:18:07</td>\n",
       "    </tr>\n",
       "    <tr>\n",
       "      <th>464959</th>\n",
       "      <td>138301</td>\n",
       "      <td>109487</td>\n",
       "      <td>atmosphere</td>\n",
       "      <td>1423178302</td>\n",
       "      <td>2015-02-05 23:18:22</td>\n",
       "    </tr>\n",
       "    <tr>\n",
       "      <th>464960</th>\n",
       "      <td>138301</td>\n",
       "      <td>109487</td>\n",
       "      <td>plot holes</td>\n",
       "      <td>1423178186</td>\n",
       "      <td>2015-02-05 23:16:26</td>\n",
       "    </tr>\n",
       "    <tr>\n",
       "      <th>464961</th>\n",
       "      <td>138301</td>\n",
       "      <td>109487</td>\n",
       "      <td>sci-fi</td>\n",
       "      <td>1423178227</td>\n",
       "      <td>2015-02-05 23:17:07</td>\n",
       "    </tr>\n",
       "    <tr>\n",
       "      <th>464962</th>\n",
       "      <td>138301</td>\n",
       "      <td>109487</td>\n",
       "      <td>science fiction</td>\n",
       "      <td>1423178255</td>\n",
       "      <td>2015-02-05 23:17:35</td>\n",
       "    </tr>\n",
       "    <tr>\n",
       "      <th>464963</th>\n",
       "      <td>138301</td>\n",
       "      <td>109487</td>\n",
       "      <td>Self-Indulgent</td>\n",
       "      <td>1423178219</td>\n",
       "      <td>2015-02-05 23:16:59</td>\n",
       "    </tr>\n",
       "    <tr>\n",
       "      <th>464964</th>\n",
       "      <td>138301</td>\n",
       "      <td>109487</td>\n",
       "      <td>space</td>\n",
       "      <td>1423178343</td>\n",
       "      <td>2015-02-05 23:19:03</td>\n",
       "    </tr>\n",
       "    <tr>\n",
       "      <th>464965</th>\n",
       "      <td>138301</td>\n",
       "      <td>109487</td>\n",
       "      <td>visually appealing</td>\n",
       "      <td>1423178319</td>\n",
       "      <td>2015-02-05 23:18:39</td>\n",
       "    </tr>\n",
       "    <tr>\n",
       "      <th>464966</th>\n",
       "      <td>138301</td>\n",
       "      <td>109487</td>\n",
       "      <td>wasted potential</td>\n",
       "      <td>1423178212</td>\n",
       "      <td>2015-02-05 23:16:52</td>\n",
       "    </tr>\n",
       "  </tbody>\n",
       "</table>\n",
       "<p>12130 rows × 5 columns</p>\n",
       "</div>"
      ],
      "text/plain": [
       "        userId  movieId                       tag   timestamp  \\\n",
       "301        318      260                     1970s  1424472169   \n",
       "302        318      260                   fantasy  1424472169   \n",
       "303        318      260                    sci-fi  1424472169   \n",
       "304        318   115149                    Action  1424534310   \n",
       "305        318   115149                   Revenge  1424534283   \n",
       "306        318   115149              Willem Dafoe  1424534383   \n",
       "324        342      318                masterplan  1423424898   \n",
       "326        342      318             prison escape  1423424898   \n",
       "327        342      318                redemption  1423424898   \n",
       "589        342   108190           based on a book  1426978115   \n",
       "590        342   108190                  dystopia  1426978076   \n",
       "1018       370     6975  breaking the fourth wall  1425242234   \n",
       "1019       370    27592                   violent  1425241975   \n",
       "2203       969       97            class conflict  1426754226   \n",
       "2204       969      288                  mindfuck  1426752631   \n",
       "2205       969      288                  paranoid  1426752639   \n",
       "2206       969      288               psychedelic  1426752634   \n",
       "2207       969     1263       american propaganda  1426753995   \n",
       "2208       969     3742            class conflict  1426753876   \n",
       "2209       969     3742                   Classic  1426754311   \n",
       "2210       969     3742                Propaganda  1426754337   \n",
       "2211       969     4848               Atmospheric  1426752575   \n",
       "2212       969     4848                      dark  1426752581   \n",
       "2213       969     4848                  Mindfuck  1426752569   \n",
       "2214       969     6530            claustrophobic  1426753144   \n",
       "2215       969     6530            mental illness  1426751285   \n",
       "2216       969     6530                   suicide  1426751289   \n",
       "2217       969     8950                depressing  1426749117   \n",
       "2218       969     8950               psychodrama  1426752695   \n",
       "2219       969     8950             schizophrenia  1426752689   \n",
       "...        ...      ...                       ...         ...   \n",
       "461895  137227   120222         horribly animated  1422821079   \n",
       "461896  137227   120222              nazi imagery  1422821051   \n",
       "461897  137227   120222                    racist  1422821047   \n",
       "461898  137227   120222        racist stereotypes  1422821071   \n",
       "462190  137249      296               influential  1423437040   \n",
       "462191  137249      296                  neo-noir  1423437040   \n",
       "462192  137249      296         quentin tarantino  1423437040   \n",
       "462195  137277   110052     marcello mastroianni,  1422925214   \n",
       "462979  137924    46855                 Criterion  1427722627   \n",
       "462980  137924    46855         French Resistance  1427722622   \n",
       "462981  137924    46855              World War II  1427722614   \n",
       "463004  138063     4355                    Hockey  1424230535   \n",
       "463005  138063   108160                    Hockey  1424230501   \n",
       "463504  138103    67894                   finnish  1423255773   \n",
       "463509  138103    69442                   finnish  1423255750   \n",
       "463544  138103    73501                   finnish  1423255756   \n",
       "463545  138103    74681                   finnish  1423255760   \n",
       "463573  138103    84553                   finnish  1423255764   \n",
       "464786  138301    52042                 espionage  1426032479   \n",
       "464787  138301    52042       resistance movement  1426032481   \n",
       "464788  138301    52042              World War II  1426032485   \n",
       "464958  138301   109487                 ambitious  1423178287   \n",
       "464959  138301   109487                atmosphere  1423178302   \n",
       "464960  138301   109487                plot holes  1423178186   \n",
       "464961  138301   109487                    sci-fi  1423178227   \n",
       "464962  138301   109487           science fiction  1423178255   \n",
       "464963  138301   109487            Self-Indulgent  1423178219   \n",
       "464964  138301   109487                     space  1423178343   \n",
       "464965  138301   109487        visually appealing  1423178319   \n",
       "464966  138301   109487          wasted potential  1423178212   \n",
       "\n",
       "                   newDate  \n",
       "301    2015-02-20 22:42:49  \n",
       "302    2015-02-20 22:42:49  \n",
       "303    2015-02-20 22:42:49  \n",
       "304    2015-02-21 15:58:30  \n",
       "305    2015-02-21 15:58:03  \n",
       "306    2015-02-21 15:59:43  \n",
       "324    2015-02-08 19:48:18  \n",
       "326    2015-02-08 19:48:18  \n",
       "327    2015-02-08 19:48:18  \n",
       "589    2015-03-21 22:48:35  \n",
       "590    2015-03-21 22:47:56  \n",
       "1018   2015-03-01 20:37:14  \n",
       "1019   2015-03-01 20:32:55  \n",
       "2203   2015-03-19 08:37:06  \n",
       "2204   2015-03-19 08:10:31  \n",
       "2205   2015-03-19 08:10:39  \n",
       "2206   2015-03-19 08:10:34  \n",
       "2207   2015-03-19 08:33:15  \n",
       "2208   2015-03-19 08:31:16  \n",
       "2209   2015-03-19 08:38:31  \n",
       "2210   2015-03-19 08:38:57  \n",
       "2211   2015-03-19 08:09:35  \n",
       "2212   2015-03-19 08:09:41  \n",
       "2213   2015-03-19 08:09:29  \n",
       "2214   2015-03-19 08:19:04  \n",
       "2215   2015-03-19 07:48:05  \n",
       "2216   2015-03-19 07:48:09  \n",
       "2217   2015-03-19 07:11:57  \n",
       "2218   2015-03-19 08:11:35  \n",
       "2219   2015-03-19 08:11:29  \n",
       "...                    ...  \n",
       "461895 2015-02-01 20:04:39  \n",
       "461896 2015-02-01 20:04:11  \n",
       "461897 2015-02-01 20:04:07  \n",
       "461898 2015-02-01 20:04:31  \n",
       "462190 2015-02-08 23:10:40  \n",
       "462191 2015-02-08 23:10:40  \n",
       "462192 2015-02-08 23:10:40  \n",
       "462195 2015-02-03 01:00:14  \n",
       "462979 2015-03-30 13:37:07  \n",
       "462980 2015-03-30 13:37:02  \n",
       "462981 2015-03-30 13:36:54  \n",
       "463004 2015-02-18 03:35:35  \n",
       "463005 2015-02-18 03:35:01  \n",
       "463504 2015-02-06 20:49:33  \n",
       "463509 2015-02-06 20:49:10  \n",
       "463544 2015-02-06 20:49:16  \n",
       "463545 2015-02-06 20:49:20  \n",
       "463573 2015-02-06 20:49:24  \n",
       "464786 2015-03-11 00:07:59  \n",
       "464787 2015-03-11 00:08:01  \n",
       "464788 2015-03-11 00:08:05  \n",
       "464958 2015-02-05 23:18:07  \n",
       "464959 2015-02-05 23:18:22  \n",
       "464960 2015-02-05 23:16:26  \n",
       "464961 2015-02-05 23:17:07  \n",
       "464962 2015-02-05 23:17:35  \n",
       "464963 2015-02-05 23:16:59  \n",
       "464964 2015-02-05 23:19:03  \n",
       "464965 2015-02-05 23:18:39  \n",
       "464966 2015-02-05 23:16:52  \n",
       "\n",
       "[12130 rows x 5 columns]"
      ]
     },
     "execution_count": 21,
     "metadata": {},
     "output_type": "execute_result"
    }
   ],
   "source": [
    "tags[tags[\"newDate\"] > \"2015-02-01\"]"
   ]
  },
  {
   "cell_type": "code",
   "execution_count": null,
   "metadata": {},
   "outputs": [],
   "source": []
  }
 ],
 "metadata": {
  "kernelspec": {
   "display_name": "Python 3",
   "language": "python",
   "name": "python3"
  },
  "language_info": {
   "codemirror_mode": {
    "name": "ipython",
    "version": 3
   },
   "file_extension": ".py",
   "mimetype": "text/x-python",
   "name": "python",
   "nbconvert_exporter": "python",
   "pygments_lexer": "ipython3",
   "version": "3.7.1"
  }
 },
 "nbformat": 4,
 "nbformat_minor": 2
}
