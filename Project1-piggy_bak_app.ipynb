{
 "cells": [
  {
   "cell_type": "markdown",
   "metadata": {},
   "source": [
    "## Piggy Bank Software\n",
    "\n",
    "We should create a piigy bank application for school children to teach them importance of savings.\n",
    "They should have the option to :\n",
    "\n",
    "* Add modeny \n",
    "* withdraw money\n",
    "* Check the current amount in the piggy bank"
   ]
  },
  {
   "cell_type": "code",
   "execution_count": null,
   "metadata": {},
   "outputs": [
    {
     "name": "stdout",
     "output_type": "stream",
     "text": [
      " \n",
      "--------------------Start-------------------\n",
      " \n",
      "Start or End : Start\n",
      "Add , Withdraw or Check : Add\n",
      " \n",
      "Add amount : 1000\n",
      " \n",
      "After adding , your updated balance is 1000.0 rupees\n",
      "None\n",
      " \n",
      "Start or End : Start\n",
      "Add , Withdraw or Check : Withdraw\n",
      " \n",
      "withdraw amount : 300\n",
      " \n",
      "After withdrawing , balance amount is  700.0 rupees\n",
      "None\n",
      " \n",
      "Start or End : Start'\n",
      " \n",
      "Start or End : Start\n",
      "Add , Withdraw or Check : Check\n",
      " \n",
      "Your current balance is 700.0 rupees\n",
      "None\n",
      " \n"
     ]
    }
   ],
   "source": [
    "import piggy_bank"
   ]
  },
  {
   "cell_type": "markdown",
   "metadata": {},
   "source": [
    "## Assignment \n",
    "\n",
    "Develope an piggy bank application, which will work as per above instruction.\n"
   ]
  },
  {
   "cell_type": "code",
   "execution_count": 5,
   "metadata": {},
   "outputs": [],
   "source": [
    "# bal =0\n",
    "\n",
    "def menu_option(bal):\n",
    "    res=input(\"Add , Withdraw or Check\")\n",
    "    if(res.lower()==\"add\"):\n",
    "#         print(\"addmoney\")\n",
    "        money=input(\"Add amount : \")\n",
    "        print(bal)\n",
    "        bal+=int(money)\n",
    "        print(\"After adding , your updated balance is {} rupees\".format(float(bal)))\n",
    "        return bal\n",
    "    elif(res.lower()==\"withdraw\"):\n",
    "#         print(\"withdraw\")\n",
    "        money=input(\"withdraw amount: \")\n",
    "        bal-=int(money)\n",
    "        print(\"After withdrawing , balance amount is  {} rupees\".format(float(bal)))\n",
    "        return bal\n",
    "    elif(res.lower()==\"check\"):\n",
    "        print(\"Your current balance is {} rupees\".format(float(bal)))\n",
    "        return bal\n",
    "    else:\n",
    "        return menu_option(bal)\n",
    "    \n",
    "def piggybank(bal):\n",
    "    while True:\n",
    "        res=input(\"Start or End \")\n",
    "        if(res.lower()==\"end\"):\n",
    "            break\n",
    "        elif(res.lower()==\"start\"):\n",
    "            bal=menu_option(bal)"
   ]
  },
  {
   "cell_type": "code",
   "execution_count": 6,
   "metadata": {},
   "outputs": [
    {
     "name": "stdout",
     "output_type": "stream",
     "text": [
      "Start or End start\n",
      "Add , Withdraw or Checkadd\n",
      "Add amount : 200\n",
      "0\n",
      "After adding , your updated balance is 200.0 rupees\n",
      "Start or End start\n",
      "Add , Withdraw or Checkadd\n",
      "Add amount : 300\n",
      "200\n",
      "After adding , your updated balance is 500.0 rupees\n",
      "Start or End start\n",
      "Add , Withdraw or Checkwithdraw\n",
      "withdraw amount: 100\n",
      "After withdrawing , balance amount is  400.0 rupees\n",
      "Start or End start\n",
      "Add , Withdraw or Checkcheck\n",
      "Your current balance is 400.0 rupees\n",
      "Start or End hjv\n",
      "Start or End start\n",
      "Add , Withdraw or Checkbh\n",
      "Add , Withdraw or Checkhvh\n",
      "Add , Withdraw or Checkcheck\n",
      "Your current balance is 400.0 rupees\n",
      "Start or End end\n"
     ]
    }
   ],
   "source": [
    "bal=0\n",
    "piggybank(bal)"
   ]
  },
  {
   "cell_type": "code",
   "execution_count": null,
   "metadata": {},
   "outputs": [],
   "source": []
  }
 ],
 "metadata": {
  "kernelspec": {
   "display_name": "Python 3",
   "language": "python",
   "name": "python3"
  }
 },
 "nbformat": 4,
 "nbformat_minor": 2
}
